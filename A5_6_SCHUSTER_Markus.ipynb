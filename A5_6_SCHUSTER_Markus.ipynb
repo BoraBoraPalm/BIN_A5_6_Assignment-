{
 "cells": [
  {
   "cell_type": "markdown",
   "id": "b46d8f74-dee8-4aae-909d-0cbb759779a2",
   "metadata": {},
   "source": [
    "### Chose gene from Assignement 1\n",
    "Programmatically, get nucleotide sequences for 5 different species that have this gene and:\n",
    "\n",
    "- Note down the basic info: accession number, title, organism, and length of the sequence\n",
    "- Determine the GC percentage\n",
    "- Perform a sequence alignment\n",
    "- Create a phylogenetic tree with visualisation according to the scores of the sequence alignment\n",
    "- Using: Entrez, Bio.SeqIO, Bio.Align, Bio.Phyl"
   ]
  },
  {
   "cell_type": "markdown",
   "id": "c1e73630-4f95-4952-964c-0147956ab6f9",
   "metadata": {},
   "source": [
    "### Note down the basic info: accession number, title, organism, and length of the sequence\n",
    "- using Entrez"
   ]
  },
  {
   "cell_type": "code",
   "execution_count": 343,
   "id": "b0d846c4-4882-497a-bd49-6cb5c9abc326",
   "metadata": {},
   "outputs": [
    {
     "name": "stdout",
     "output_type": "stream",
     "text": [
      "process completed\n",
      "Using orthologs: ['Mus musculus', 'Rattus norvegicus', 'Homo sapiens', 'Pipistrellus kuhlii', 'Lemur catta']\n"
     ]
    }
   ],
   "source": [
    "from Bio import SeqIO, Entrez\n",
    "from Bio.Seq import Seq\n",
    "import pandas as pd\n",
    "from Bio.Align import MultipleSeqAlignment\n",
    "\n",
    "# get records according to gene name\n",
    "def query_id_list(gene_name, species=None):  \n",
    "    '''\n",
    "    get an ID list of all entries that have the gene name. \n",
    "    The respective species can also be selected. \n",
    "    The default value is None, so all species are searched for. \n",
    "    '''\n",
    "    handle = None\n",
    "    # Depending on whether you are looking for a special species or not \n",
    "    if species == None:\n",
    "        handle = Entrez.esearch(db='nucleotide', term=f'{gene_name}[gene]', retmode='xml')\n",
    "    else:\n",
    "        handle = Entrez.esearch(db='nucleotide', term=f'{species}[Orgn] AND {gene_name}[gene]', retmode='xml')\n",
    "    records = Entrez.read(handle)\n",
    "    \n",
    "    # Append all records (in this case IDs) to one String with \",\" and then make string list\n",
    "    id_list = \",\".join(records[\"IdList\"][:])\n",
    "    id_list.split(',')\n",
    "    return id_list\n",
    "\n",
    "def download_recordsXML(id_list):\n",
    "    '''\n",
    "    The first approach was to get the entries in XML format. Therefore this function.\n",
    "    It is still integrated as there is no time to rewrite the program. \n",
    "    In future: use \"download_recordsText\" instead.\n",
    "    \n",
    "    Note: The NCBI changed the default retmode in Feb 2012, so many databases which previously \n",
    "          returned text output now give XML.\n",
    "    link: https://biopython.org/docs/1.76/api/Bio.Entrez.html\n",
    "    '''\n",
    "    handle = Entrez.efetch(db=\"nucleotide\", id=id_list, retmode=\"xml\")\n",
    "    records = Entrez.read(handle, \"genbank\")\n",
    "    return records\n",
    "\n",
    "def download_recordsText(id_list):\n",
    "    '''\n",
    "    The second approach was to use retmode=\"text\". \n",
    "    This made it easier to access some attributes. Above all, the problem with the multi-sequence \n",
    "    alignment was no longer that the \"Seq\" object was missing parameters. \n",
    "    '''\n",
    "    handle = Entrez.efetch(db=\"nucleotide\", id=id_list, rettype=\"gb\", retmode=\"text\")\n",
    "    records = SeqIO.parse(handle, \"genbank\")\n",
    "    return records\n",
    "\n",
    "def get_all_orthologs(records):\n",
    "    '''\n",
    "    Just for getting alle orthologs from the query. Eliminates duplicate entries, which does not\n",
    "    matter since only names are important here.\n",
    "    '''\n",
    "    orthologs = [] \n",
    "    for record in records:\n",
    "        orthologs.append(record['GBSeq_organism'])\n",
    "    \n",
    "    # Eliminates duplicate entries in a roundabout way\n",
    "    orthologs = list(dict.fromkeys(orthologs))\n",
    "    return orthologs\n",
    "    \n",
    "\n",
    "\n",
    "# 1) define E-Mail and gene name\n",
    "Entrez.email = \"be18b070@technikum-wien.at\";\n",
    "gene_name = \"SIRT1\"\n",
    "\n",
    "# 2) define gene and serach 5 orthologs\n",
    "id_list = query_id_list(gene_name)\n",
    "records = download_recordsXML(id_list)\n",
    "orthologs = get_all_orthologs(records)[:5]\n",
    "\n",
    "# 3) serach for these species and get accession number\n",
    "othologs_with_nr = {}\n",
    "for ortholog in orthologs:\n",
    "    id_list = query_id_list(gene_name, ortholog)\n",
    "    ID = id_list.split(\",\")[0]\n",
    "    #print(f\"name: {ortholog} -> accession number: {ID}\") \n",
    "    othologs_with_nr[ortholog] = ID \n",
    "\n",
    "    \n",
    "# 4) get sequences from accession numbers\n",
    "acession_numbers = list(othologs_with_nr.values())\n",
    "\n",
    "# 5) get records from acession number and sequences\n",
    "records = download_recordsText(acession_numbers)\n",
    "\n",
    "\n",
    "# 6) make list of records\n",
    "records_list = []\n",
    "for record in records:\n",
    "    records_list.append(record)\n",
    "    \n",
    "print(\"process completed\")\n",
    "print(f\"Using orthologs: {orthologs}\")"
   ]
  },
  {
   "cell_type": "markdown",
   "id": "30904e69-96dc-4719-860d-9dc3c1b56834",
   "metadata": {},
   "source": [
    "### As an intermediate step, create pandas dataframe with the content of each species "
   ]
  },
  {
   "cell_type": "code",
   "execution_count": 344,
   "id": "3979e0ec-eda2-4446-af2d-f6b151f8b0fb",
   "metadata": {},
   "outputs": [
    {
     "name": "stdout",
     "output_type": "stream",
     "text": [
      "\n",
      "Entry: 1 ---------- \n",
      "          Parameter                                            Content\n",
      "0  accession number                                       NM_001159589\n",
      "1             title  Mus musculus sirtuin 1 (Sirt1), transcript var...\n",
      "2          organism                         Mus musculus (house mouse)\n",
      "3     length of seq                                               3793\n",
      "\n",
      "Entry: 2 ---------- \n",
      "          Parameter                                    Content\n",
      "0  accession number                               NM_001372090\n",
      "1             title  Rattus norvegicus sirtuin 1 (Sirt1), mRNA\n",
      "2          organism             Rattus norvegicus (Norway rat)\n",
      "3     length of seq                                       3184\n",
      "\n",
      "Entry: 3 ---------- \n",
      "          Parameter                                            Content\n",
      "0  accession number                                       NM_001142498\n",
      "1             title  Homo sapiens sirtuin 1 (SIRT1), transcript var...\n",
      "2          organism                               Homo sapiens (human)\n",
      "3     length of seq                                               3588\n",
      "\n",
      "Entry: 4 ---------- \n",
      "          Parameter                                            Content\n",
      "0  accession number                                       XM_045581817\n",
      "1             title  PREDICTED: Pipistrellus kuhlii sirtuin 1 (SIRT...\n",
      "2          organism           Pipistrellus kuhlii (Kuhl's pipistrelle)\n",
      "3     length of seq                                               2351\n",
      "\n",
      "Entry: 5 ---------- \n",
      "          Parameter                                            Content\n",
      "0  accession number                                       XM_045567941\n",
      "1             title  PREDICTED: Lemur catta sirtuin 1 (SIRT1), tran...\n",
      "2          organism                    Lemur catta (Ring-tailed lemur)\n",
      "3     length of seq                                               3223\n"
     ]
    }
   ],
   "source": [
    "# Creating a data list which will be used until the end\n",
    "data_list = []\n",
    "\n",
    "# Create records list and add, as required, accession number, title, organism, and length of the sequence\n",
    "for i, record in enumerate(records_list):\n",
    "    infos = {\n",
    "        \"accession number\" : record.name,\n",
    "        \"title\" : record.description,\n",
    "        \"organism\" : record.annotations[\"source\"],\n",
    "        \"length of seq\" : len(record.seq),\n",
    "    }\n",
    "    \n",
    "    pandas_dataframe = pd.DataFrame(list(infos.items()), columns = ['Parameter', 'Content']);\n",
    "    data_list.append(pandas_dataframe)\n",
    "\n",
    "    print(f\"\\nEntry: {i+1} ---------- \\n{pandas_dataframe}\")\n",
    "    "
   ]
  },
  {
   "cell_type": "markdown",
   "id": "f090d595-9dfa-45a4-ba21-b165ba4010bd",
   "metadata": {},
   "source": [
    "### Determine the GC percentage"
   ]
  },
  {
   "cell_type": "code",
   "execution_count": 345,
   "id": "f01dbeb3-7d5e-45a7-8340-6bf10b0fb4f7",
   "metadata": {},
   "outputs": [
    {
     "data": {
      "text/plain": [
       "[          Parameter                                            Content\n",
       " 0  accession number                                       NM_001159589\n",
       " 1             title  Mus musculus sirtuin 1 (Sirt1), transcript var...\n",
       " 2          organism                         Mus musculus (house mouse)\n",
       " 3     length of seq                                               3793\n",
       " 4     GC percentage                                           42.55207,\n",
       "           Parameter                                    Content\n",
       " 0  accession number                               NM_001372090\n",
       " 1             title  Rattus norvegicus sirtuin 1 (Sirt1), mRNA\n",
       " 2          organism             Rattus norvegicus (Norway rat)\n",
       " 3     length of seq                                       3184\n",
       " 4     GC percentage                                  36.714824,\n",
       "           Parameter                                            Content\n",
       " 0  accession number                                       NM_001142498\n",
       " 1             title  Homo sapiens sirtuin 1 (SIRT1), transcript var...\n",
       " 2          organism                               Homo sapiens (human)\n",
       " 3     length of seq                                               3588\n",
       " 4     GC percentage                                          37.876254,\n",
       "           Parameter                                            Content\n",
       " 0  accession number                                       XM_045581817\n",
       " 1             title  PREDICTED: Pipistrellus kuhlii sirtuin 1 (SIRT...\n",
       " 2          organism           Pipistrellus kuhlii (Kuhl's pipistrelle)\n",
       " 3     length of seq                                               2351\n",
       " 4     GC percentage                                            37.0906,\n",
       "           Parameter                                            Content\n",
       " 0  accession number                                       XM_045567941\n",
       " 1             title  PREDICTED: Lemur catta sirtuin 1 (SIRT1), tran...\n",
       " 2          organism                    Lemur catta (Ring-tailed lemur)\n",
       " 3     length of seq                                               3223\n",
       " 4     GC percentage                                          34.905368]"
      ]
     },
     "execution_count": 345,
     "metadata": {},
     "output_type": "execute_result"
    }
   ],
   "source": [
    "# New Approach:\n",
    "from Bio.SeqUtils import GC\n",
    "\n",
    "# calculate GC percentage and add it to DataFrame\n",
    "# Note (!): If \"data in data_list\" is used it's not possible to assign \"data\" a new value. It seems to be \n",
    "#           not longer connected. This is the reason, why I'm working with the index here.\n",
    "#           Otherwise, \"for data, record in zip(data_list, record_list) was the previous approach\n",
    "for i in range(len(data_list)):\n",
    "    # get GC percentage\n",
    "    percentage_gc = GC(records_list[i].seq)\n",
    "    # make DataFrame of GC percentage and\n",
    "    df = pd.DataFrame([{\"GC percentage\", percentage_gc}], columns=[\"Parameter\", \"Content\"])\n",
    "    # add it to existing Dataframe\n",
    "    data_list[i] = data_list[i].append(df, ignore_index=True)\n",
    "        \n",
    "\n",
    "data_list\n",
    "\n",
    "# OLD Approach for finding the GC percentage:\n",
    "#for record in records_list:\n",
    "#    number_gc = record.seq.count(\"GC\")\n",
    "#    length = len(record.seq)\n",
    "#    #length = infos[\"length of seq\"] # This was from fetched XML record\n",
    "#    percentage = int(number_gc) / int(length) * 100;\n",
    "#    print(f\"{percentage} % --> GC percentage of {infos['organism']}\")"
   ]
  },
  {
   "cell_type": "markdown",
   "id": "61e83f5a-eb3e-44c4-8330-fb8e1a7cd76a",
   "metadata": {},
   "source": [
    "### Perform a sequence alignment\n",
    "- Of these 5 sequences\n",
    "- Bio.Align"
   ]
  },
  {
   "cell_type": "code",
   "execution_count": 346,
   "id": "5280c019-335d-4e10-bcce-02397053207c",
   "metadata": {},
   "outputs": [
    {
     "name": "stdout",
     "output_type": "stream",
     "text": [
      "Alignment with 5 rows and 3793 columns\n",
      "GCCAGTGCCGCGCGTCGAGCGGAGCAGAGGAGGCGAGGGCGGAG...TAA NM_001159589.2\n",
      "GTTTCTGTTTCCTGTGGGATACCTGACTTCAGATCAAGAGATGG...... NM_001372090.1\n",
      "GCATCTCCTCCTCCCTCTCCCCGGGCTCCTACTGGCCTGAGGTT...... NM_001142498.2\n",
      "ATAACCTTCTGTTTGGTGATGAAATAATTACCAATGGTTTCCAT...... XM_045581817.1\n",
      "AAGAAACAGCATTGAAGCATTATTTGGGGGGAAAAACACACACA...... XM_045567941.1\n"
     ]
    }
   ],
   "source": [
    "from Bio.Align import MultipleSeqAlignment\n",
    "from Bio import AlignIO\n",
    "import copy\n",
    "\n",
    "# 1) Make all the sequences the same length. \n",
    "#    I used the the following source:\n",
    "#    https://stackoverflow.com/questions/32833230/biopython-alignio-valueerror-says-strings-must-be-same-length\n",
    "def normalized_sequence_length(records):\n",
    "    max_len = max(len(record.seq) for record in records)\n",
    "    \n",
    "    for record in records: \n",
    "        if len(record.seq) != max_len:\n",
    "            sequence = str(record.seq).ljust(max_len, '.')\n",
    "            record.seq = Seq(sequence)\n",
    "            \n",
    "    assert all(len(record.seq) == max_len for record in records)\n",
    "    \n",
    "    return records\n",
    "\n",
    "# 2) make a copy so that the old list is not affected\n",
    "records_list_copy = copy.deepcopy(records_list)\n",
    "\n",
    "# 3) perform sequence alignement\n",
    "align  = MultipleSeqAlignment(normalized_sequence_length(records_list_copy))\n",
    "\n",
    "# 4) show the alignement\n",
    "print(align)"
   ]
  },
  {
   "cell_type": "code",
   "execution_count": 347,
   "id": "a5263fe5-7f08-46e1-93db-fddaae3242cd",
   "metadata": {},
   "outputs": [
    {
     "name": "stdout",
     "output_type": "stream",
     "text": [
      "NM_001159589.2\t0\n",
      "NM_001372090.1\t0.773002900079093\t0\n",
      "NM_001142498.2\t0.7585025046137622\t0.7276562088056947\t0\n",
      "XM_045581817.1\t0.8547324017927762\t0.6704455576061166\t0.7830213551278671\t0\n",
      "XM_045567941.1\t0.7706301080938571\t0.6095438966517268\t0.7302926443448458\t0.6862641708410229\t0\n",
      "\tNM_001159589.2\tNM_001372090.1\tNM_001142498.2\tXM_045581817.1\tXM_045567941.1\n"
     ]
    },
    {
     "data": {
      "image/png": "[encoded data removed]",
      "text/plain": [
       "<Figure size 432x288 with 1 Axes>"
      ]
     },
     "metadata": {
      "needs_background": "light"
     },
     "output_type": "display_data"
    }
   ],
   "source": [
    "from Bio.Phylo.TreeConstruction import DistanceCalculator\n",
    "from Bio.Phylo.TreeConstruction import DistanceTreeConstructor\n",
    "from Bio import Phylo\n",
    "\n",
    "# 1) Calculate the distances. It would also be possible to use another method than 'identity', \n",
    "#    but it was not specified which one should be used.\n",
    "calculator = DistanceCalculator('identity')\n",
    "dm = calculator.get_distance(align)\n",
    "# print the distances\n",
    "print(dm)\n",
    "\n",
    "# 2) Construct the phylogenetic tree.\n",
    "constructor = DistanceTreeConstructor()\n",
    "tree = constructor.upgma(dm)\n",
    "\n",
    "# 3) Plot the phylogenetic tre and also show the distances and accession number on the print. \n",
    "#   I assume it looks dofferent in jupyter than in another IDE.\n",
    "#Phylo.draw_ascii(tree) # plot just in ascii style ;)\n",
    "#Phylo.draw(tree)       # plot without distances\n",
    "\n",
    "Phylo.draw(tree, branch_labels=lambda c: c.branch_length) # plot with distances"
   ]
  },
  {
   "cell_type": "markdown",
   "id": "a03db3e6-6c9f-4b56-ac12-e01b992b7f29",
   "metadata": {},
   "source": [
    "## Transform the nucleotide sequences into protein ones, and:\n",
    "- Calculate: instability, aromaticity, isoelectric point\n",
    "- Analyse the structure via the fractions of amino acids that tend to be in helix, turn or sheet"
   ]
  },
  {
   "cell_type": "code",
   "execution_count": 348,
   "id": "cb1d0b0e-6b58-4870-8f08-90cfec86c324",
   "metadata": {},
   "outputs": [
    {
     "name": "stderr",
     "output_type": "stream",
     "text": [
      "P:\\Anaconda3\\lib\\site-packages\\Bio\\Seq.py:2338: BiopythonWarning: Partial codon, len(sequence) not a multiple of three. Explicitly trim the sequence or add trailing N before translation. This may become an error in future.\n",
      "  BiopythonWarning,\n"
     ]
    }
   ],
   "source": [
    "from Bio.SeqUtils.ProtParam import ProteinAnalysis\n",
    "\n",
    "protein_list = []\n",
    "fractions_list = []\n",
    "\n",
    "for i, record in enumerate(records_list):\n",
    "    # Translate to protein and add to protein list\n",
    "    protein_as_str = str(record.seq.translate())\n",
    "    protein_list.append(protein_as_str)\n",
    "    \n",
    "    # Calculate the instability, isoelectric_point, aromaticity\n",
    "    instability = ProteinAnalysis(protein_as_str.replace(\"*\",\"\")).instability_index()\n",
    "    isoelectric_point = ProteinAnalysis(protein_as_str).isoelectric_point()\n",
    "    aromaticity = ProteinAnalysis(protein_as_str).aromaticity()\n",
    "    \n",
    "    # Caluclating the fraction of helix, turn and sheet.\n",
    "    # The .secondary_structure_fraction() returns a tuple of three floats (Helix, Turn, Sheet).\n",
    "    # This list indicates which fraction of amino acid tend to be in Helix, Turn or Sheet\n",
    "    fractions_list.append(ProteinAnalysis(protein_as_str).secondary_structure_fraction())\n",
    "    \n",
    "    # Add instability and aromaticity to DataFrame\n",
    "    # (!) I had an issue and thus to swap the columns\n",
    "    df = pd.DataFrame([{\"instability\", instability}], columns=[\"Content\", \"Parameter\"])\n",
    "    data_list[i] = data_list[i].append(df, ignore_index=True)\n",
    "    df = pd.DataFrame([{\"aromaticity\", aromaticity}], columns=[ \"Content\", \"Parameter\"])\n",
    "    data_list[i] = data_list[i].append(df, ignore_index=True)\n",
    "    \n"
   ]
  },
  {
   "cell_type": "markdown",
   "id": "7d663696-100e-4b98-b01c-e93d1e8fa80e",
   "metadata": {},
   "source": [
    "## Thus, the code must automatically generate:\n",
    "- A table with: accession number and title, organism, length of the sequence, GC percentage, instability, aromaticity\n",
    "\n",
    "- Phylogenetic tree visualisation with accession numbers and distances mentioned on the graph"
   ]
  },
  {
   "cell_type": "code",
   "execution_count": 342,
   "id": "7cecb2ed-c5ba-4c17-82df-e476503b7cd6",
   "metadata": {},
   "outputs": [
    {
     "name": "stdout",
     "output_type": "stream",
     "text": [
      "          Parameter                                            Content\n",
      "0  accession number                                       NM_001159589\n",
      "1             title  Mus musculus sirtuin 1 (Sirt1), transcript var...\n",
      "2          organism                         Mus musculus (house mouse)\n",
      "3     length of seq                                               3793\n",
      "4     GC percentage                                           42.55207\n",
      "5     GC percentage                                           42.55207\n",
      "          Parameter                                    Content\n",
      "0  accession number                               NM_001372090\n",
      "1             title  Rattus norvegicus sirtuin 1 (Sirt1), mRNA\n",
      "2          organism             Rattus norvegicus (Norway rat)\n",
      "3     length of seq                                       3184\n",
      "4     GC percentage                                  36.714824\n",
      "5     GC percentage                                  36.714824\n",
      "          Parameter                                            Content\n",
      "0  accession number                                       NM_001142498\n",
      "1             title  Homo sapiens sirtuin 1 (SIRT1), transcript var...\n",
      "2          organism                               Homo sapiens (human)\n",
      "3     length of seq                                               3588\n",
      "4     GC percentage                                          37.876254\n",
      "5     GC percentage                                          37.876254\n",
      "          Parameter                                            Content\n",
      "0  accession number                                       XM_045581817\n",
      "1             title  PREDICTED: Pipistrellus kuhlii sirtuin 1 (SIRT...\n",
      "2          organism           Pipistrellus kuhlii (Kuhl's pipistrelle)\n",
      "3     length of seq                                               2351\n",
      "4     GC percentage                                            37.0906\n",
      "5     GC percentage                                            37.0906\n",
      "          Parameter                                            Content\n",
      "0  accession number                                       XM_045567941\n",
      "1             title  PREDICTED: Lemur catta sirtuin 1 (SIRT1), tran...\n",
      "2          organism                    Lemur catta (Ring-tailed lemur)\n",
      "3     length of seq                                               3223\n",
      "4     GC percentage                                          34.905368\n",
      "5     GC percentage                                          34.905368\n"
     ]
    },
    {
     "data": {
      "image/png": "[encoded data removed]",
      "text/plain": [
       "<Figure size 432x288 with 1 Axes>"
      ]
     },
     "metadata": {
      "needs_background": "light"
     },
     "output_type": "display_data"
    }
   ],
   "source": [
    "# 1) show table with\n",
    "#  -> accession number\n",
    "#  -> title\n",
    "#  -> organism\n",
    "#  -> length of sequence\n",
    "#  -> GC percentage\n",
    "#  -> instability\n",
    "#  -> aromaticy\n",
    "for data in data_list:\n",
    "    print(data)\n",
    "\n",
    "# 2) phylogenetic tree visualisation\n",
    "#  -> with accession numbers\n",
    "#  -> and distances mentioned on the graph\n",
    "Phylo.draw(tree, branch_labels=lambda c: c.branch_length)\n"
   ]
  }
 ],
 "metadata": {
  "kernelspec": {
   "display_name": "Python 3",
   "language": "python",
   "name": "python3"
  },
  "language_info": {
   "codemirror_mode": {
    "name": "ipython",
    "version": 3
   },
   "file_extension": ".py",
   "mimetype": "text/x-python",
   "name": "python",
   "nbconvert_exporter": "python",
   "pygments_lexer": "ipython3",
   "version": "3.7.6"
  }
 },
 "nbformat": 4,
 "nbformat_minor": 5
}
